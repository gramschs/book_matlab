{
 "cells": [
  {
   "cell_type": "code",
   "execution_count": 1,
   "id": "b3f25d05-6f0e-48fe-a9f6-0e90b614cfd5",
   "metadata": {
    "tags": [
     "remove-input"
    ]
   },
   "outputs": [],
   "source": [
    "from IPython.display import Image"
   ]
  },
  {
   "cell_type": "markdown",
   "id": "1df0a410-a399-49c7-89b0-a6aa1550c370",
   "metadata": {},
   "source": [
    "# GUI und Fehlersuche \n",
    "\n",
    "Bisher haben wir alle Eingaben über die Tastatur direkt in dem sogenannten Command Window vorgenommen. Normalerweise wird Software jedoch über eine **graphische Benutzeroberfläche** bedient. Graphische Benutzeroberfläche heißt auf Englisch graphical user interface und normalerweise verwenden wir nur die Abkürzung dafür, also **GUI**. \n",
    "\n",
    "Das Design einer GUI und ihre Implemenierung in MATLAB sind zwei Themen, mit denen man eine eigene Vorlesung füllen könnte. Wir werden in dieser Vorlesung GUIs nur anreißen können. Anstatt eine eigene GUI zu entwickeln, erarbeiten wir uns, welche GUI-Elemente es gibt und betten sie in das MATLAB Live Script ein. Danach beschäftigen wir uns mit der systematischen **Fehlersuche**."
   ]
  },
  {
   "cell_type": "markdown",
   "id": "76ca9c71-8927-4805-8961-ef5958de9531",
   "metadata": {},
   "source": [
    "## Graphische Benutzeroberfläche oder kurz GUI\n",
    "\n",
    "In den bisherigen Programmen ohne GUI ist der Programmablauf weitestgehend linear. Natürlich haben wir gelernt, den Programmcode zu verzweigen, zu wiederholen oder per Funktion auszulagern, aber eine Input-Abfrage kommt an einer genau definierten Stelle im Programm vor. Bei einer GUI haben die Benutzer:innen jedoch die Möglichkeit, zuerst hier zu klicken und dann an einer anderen Stelle einen Wert einzugeben. Daher erfordert die GUI-Programmierung, dass im Hintergrund das laufend überprüft wird, ob Benutzer:innen nun eine Eingabe gemacht haben oder nicht, und dann muss das Programm entsprechend reagieren. \n",
    "\n",
    "MATLAB bietet drei Möglichkeiten an, GUIs zu implementieren:\n",
    "1. Konvertierung eines MATLAB Live Scripts in eine einfache App\n",
    "2. Interaktive Entwicklung einer App mit GUIDE, dem GUI-Designer\n",
    "3. Programmierung einer App mit reinen MATLAB-Befehlen\n",
    "\n",
    "Wie Sie sich denken können, ist die erste Variante am schnellsten zu erlernen, bietet jedoch die wenigsten Konfigurationsmöglichkeiten. Wenn Sie sich für GUIDE oder die programmatische App-Entwicklung interessieren, finden Sie in der [MATLAB Dokumentation](https://de.mathworks.com/discovery/matlab-gui.html) weitere Hilfestellung."
   ]
  },
  {
   "cell_type": "markdown",
   "id": "e7074b75-4ba5-4772-9a2d-747740b0a2f4",
   "metadata": {},
   "source": [
    "### Slider\n",
    "\n",
    "Zum Einstieg programmieren wir eine sehr simplen Slider. Wir schreiben \n",
    "\n",
    "```matlab\n",
    "x =  \n",
    "```\n",
    "\n",
    "in eine Code-Zelle und klicken dann oben im Menü auf Control und wählen numeric slider aus. Danach benutzen wir die Variable x, die durch den numerischen Slider befüllt wird, in einer Anweisung \n",
    "\n",
    "```matlab\n",
    "fprintf('Das Quadrat von %g ist %g', x, x^2);\n",
    "```\n",
    "und verändern den Slider. Das Einfügen des Sliders wird in der folgenden Animation gezeigt:"
   ]
  },
  {
   "cell_type": "markdown",
   "id": "0b875e57-1e04-4364-976a-ee4deab5fc31",
   "metadata": {
    "tags": [
     "remove-input"
    ]
   },
   "source": [
    "![numeric_slider](screencasts/part09_numeric_slider.gif \"MATLAB Numeric Slider\")\n"
   ]
  },
  {
   "cell_type": "markdown",
   "id": "8ca20c02-d622-468d-998f-9f396ddfd8dd",
   "metadata": {},
   "source": [
    "Schauen wir uns ein zweites Beispiel an. Wir visualisieren eine Parabel mit einem Vorfaktor, also $f(x)=ax^2$ . Dazu schreiben wir eine Funktion, die den Vorfaktor als Input-Argument entgegen nimmt und dann die Parabel mit dem Definitionsgebiet [−10,10] zeichnet. Die Implementierung dieser Funktion zeichne_parabel() finden Sie ganz unten am Ende des MATLAB Live Skripts.\n",
    "\n",
    "![slider_zeichne_parabel](pics/part09_slider_zeichne_parabel.png)"
   ]
  },
  {
   "cell_type": "markdown",
   "id": "85d65062-a169-4c99-bada-3023199465d0",
   "metadata": {},
   "source": [
    "Wie Sie sehen, werden die Optionen für den Slider beim Aufruf gesetzt. Das vertiefen wir gleich. Zunächst eine kleine Aufgabe.\n",
    "\n",
    "```{exercise}\n",
    ":label: exercise_09_01\n",
    "Schreiben Sie eine Funktion, die die Funktion $f(x)=\\sin(kx)$ im Intervall $[-2\\pi, 2\\pi]$ zeichnet. Definieren Sie anschließend für k einen Slider mit Startwert k=2. Bewegen Sie anschließend den Slider.\n",
    "```\n",
    "````{solution} exercise_09_01\n",
    ":label: solution_09_01\n",
    ":class: dropdown\n",
    "```matlab\n",
    "k = 1 % durch Slider ersetzen\n",
    "zeichne_sinus(k)\n",
    "\n",
    "% am Ende des MATLAB Live Skriptes\n",
    "function zeichne_sinus(k)\n",
    "    x = linspace(-2*pi, 2*pi);\n",
    "    y = sin(k*x);\n",
    "    plot(x,y);\n",
    "    xlim([-2*pi, 2*pi]);\n",
    "    ylim([-1,1]);\n",
    "end\n",
    "```\n",
    "````"
   ]
  },
  {
   "cell_type": "markdown",
   "id": "9f9adb3c-3304-42cb-8dc0-1a4feec13509",
   "metadata": {},
   "source": [
    "Es ist auch möglich, zwei Slider zu definieren. Die Funktion `zeichne_punkt()` (Implementierung ganz unten) zeichnet einen Punkt an den Koordinaten (𝑥,𝑦):\n",
    "\n",
    "![fig_slider_zeichne_punkt](pics/part09_slider_zeichne_punkt.png \"Slider zum Zeichnen eines Punktes mit x und y Koordinate\")"
   ]
  },
  {
   "cell_type": "markdown",
   "id": "b59b4ad6-6961-4dd7-b727-ca9cc9275a4c",
   "metadata": {},
   "source": [
    "```{exercise}\n",
    ":label: exercise_09_02\n",
    "Eine Gerade wird durch die Funktionsgleichung\n",
    "\n",
    "$$ y + mx+b$$\n",
    "\n",
    "mit der Steigung $m$ und dem y-Achsenabschnitt $b$ beschrieben. Schreiben Sie eine Funktion, die eine Gerade im Intervall $[-5, 5]$ zeichnet und bei der die y-Achse stets zwischen -10 und 10 anzeigt. Eine Benutzerin oder ein Benutzer soll die Steigung im Bereich $m\\in [-3,3]$ mit der Schrittweite $0.1$ und den y-Achsenabschnitt $b\\in [-7.5, 7.5]$ mit der Schrittweite $0.5$ wählen können. \n",
    "```\n",
    "````{solution} exercise_09_02\n",
    ":label: solution_09_02\n",
    ":class: dropdown\n",
    "```matlab\n",
    "m = 1 % durch Slider ersetzen\n",
    "b = 1 % durch Slider ersetzen\n",
    "zeichne_gerade(m,b);\n",
    "\n",
    "% am Ende des Live Skriptes\n",
    "function zeichne_gerade(m,b)\n",
    "    x = linspace(-5, 5);\n",
    "    y = m.*x + b;\n",
    "    plot(x,y);\n",
    "    xlim([-5,5]);\n",
    "    ylim([-10,10])\n",
    "end\n",
    "\n",
    "```\n",
    "````"
   ]
  },
  {
   "cell_type": "markdown",
   "id": "a69aedd7-2f19-4dc3-8715-5bcf0cd98438",
   "metadata": {},
   "source": [
    "### Edit Field\n",
    "\n",
    "Bei einem Slider wird indirekt eine Variable mit einem Wert gefüllt, indem der Benutzer oder die Benutzerin der Applikation einen Indikator regelt. Im Gegenzug dazu erfolgt die direkte Eingabe über ein sogenanntes **Edit Field**. \n",
    "Wir konstruieren ein Eingabefeld für eine Altersabfrage. Dazu schreiben wir den Variablennamen plus Zuweisungsoperator in eine Code-Zelle und wählen dann im Menü `Control` und `Edit Field`:\n",
    "\n",
    "![fig_edit_field](pics/part09_edit_field.png \"MATLAB Edit Field\")\n",
    "\n",
    "Beachten Sie, dass Sie den Datentyp von String auf `Double` umstellen müssen, damit der Datentyp der Variable alter auch als Zahl interpretiert wird."
   ]
  },
  {
   "cell_type": "markdown",
   "id": "b9d2f02e-c0c6-49f7-90c5-e6399980f6f2",
   "metadata": {},
   "source": [
    "```{exercise}\n",
    ":label: exercise_09_03\n",
    "Schreiben Sie ein Programm, das das Geburtsjahr eines Benutzers über ein Edit Field abfragt und danch das Alter berechnet und ausgibt.\n",
    "```\n",
    "````{solution} exercise_09_03\n",
    ":label: solution_09_03\n",
    ":class: dropdown\n",
    "```matlab\n",
    "geburtsjahr = 2001 % durch EditField ersetzen\n",
    "fprintf('Sie sind %g Jahre alt.', geburtsjahr)\n",
    "```\n",
    "````"
   ]
  },
  {
   "cell_type": "markdown",
   "id": "48f25342-62bd-4e20-b32d-398ff244d888",
   "metadata": {},
   "source": [
    "### Drop-Down-Liste\n",
    "\n",
    "Eine **Drop-Down-Liste**, manchmal auch **Pulldown-Menü** genannt, ermöglicht eine Auswahl aus einer Liste von Objekten. Die einzelnen Auswahlmöglichkeiten werden als `Item Labels` gelistet.\n",
    "\n",
    "Wiederum müssen Sie die Drop-Down-Liste über den Menüpunkt `Control` einfügen. Sie werden nach den Werten (item values) gefragt, die in der Drop-Down-Liste stehen sollen. Geben Sie dort pro Zeile eine Zahl ein."
   ]
  },
  {
   "cell_type": "markdown",
   "id": "9d92361a-6a3f-430d-9a40-c4e4cfd391c0",
   "metadata": {},
   "source": [
    "```{exercise}\n",
    ":label: exercise_09_04\n",
    "Schreiben Sie ein Programm, bei dem der Benutzer über zwei Drop-Down-Listen den Tag und den Monat seines Geburtstages auswählt. Lassen Sie den Computer danach feststellen, ob der Benutzer dieses Jahr schon Geburtstag hatte, heute gerade Geburtstag hat (Gratulation) oder noch Geburtstag haben wird. Geben Sie eine entsprechende Meldung aus.\n",
    "```\n",
    "````{solution} exercise_09_04\n",
    ":label: solution_09_04\n",
    ":class: dropdown\n",
    "```matlab\n",
    "tag = 25  % durch DropDown ersetzen\n",
    "monat = 6 % durch DropDown ersetzen\n",
    "heutiger_tag = 25\n",
    "heutiger_monat = 6\n",
    "if monat < heutiger_monat\n",
    "    disp('Sie hatten schon Geburtstag.');\n",
    "elseif monat == heutiger_monat\n",
    "    if tag < heutiger_tag\n",
    "        disp('Sie hatten schon Geburtstag.');\n",
    "    elseif tag == heutiger_tag\n",
    "        disp('Happy Birthday :-)');\n",
    "    else\n",
    "        disp('Sie werden dieses Jahr noch Geburtstag haben...');\n",
    "    end\n",
    "else\n",
    "    disp('Sie werden dieses Jahr noch Geburtstag haben...');\n",
    "end\n",
    "```\n",
    "````"
   ]
  },
  {
   "cell_type": "markdown",
   "id": "8d1ec693-ba2e-4d52-bcb7-7e36dfd69e09",
   "metadata": {},
   "source": [
    "### Checkbox\n",
    "\n",
    "Checkboxen sind explizit für die Abfrage von booleschen Werte, d.h. wahr oder falsch, gemacht. Hier direkt ein Beispiel. Wir schreiben zuerst den Namen der Variable hin, der den Wahrheitswert speichern soll. Mit Hilfe des Zuweisungsoperators weisen wir dann den Wert der Checkbox der Variable w zu. Die Checkbox wählen wir über `Control` und `Check Box` aus.\n",
    "\n",
    "![fig_part09_checkbox](pics/part09_checkbox.png \"MATLAB Checkbox\")"
   ]
  },
  {
   "cell_type": "markdown",
   "id": "ac9a6ad1-f59d-4202-a4ba-a54b54efc80c",
   "metadata": {},
   "source": [
    "Wir erweitern unseren Plot der Sinus-Funktion um eine Legende. Sehen Sie sich am Ende des MATLAB Live Skripts an, wie die boolesche Variable `w` der Funktion `plotte_sinus()` als Argument namens `mit_legende` übergeben wird und dann mit einer Programmverzweigung entschieden wird, ob die Legende gezeichnet werden soll oder nicht.\n",
    "\n",
    "![fig_part09_checkbox2](pics/part09_checkbox2.png \"MATLAB checked Checkbox\")"
   ]
  },
  {
   "cell_type": "markdown",
   "id": "2cfc63b8-bc78-45d8-8a4e-c6a8d66291aa",
   "metadata": {},
   "source": [
    "```{exercise}\n",
    ":label: exercise_09_05\n",
    "Schreiben Sie ein Programm, bei dem der Benutzer über eine Drop-Down-Liste zwischen den Funktionen Sinus und Kosinus wählen darf. Anschließend wird die ausgewählte Funktion im Intervall $[−2\\pi,2\\pi]$ gezeichnet. Über eine Checkbox darf der Benutzer entscheiden, ob die Gitterlinien eingeblendet werden sollen oder nicht.\n",
    "```\n",
    "````{solution} exercise_09_05\n",
    ":label: solution_09_05\n",
    ":class: dropdown\n",
    "```matlab\n",
    "% Optionenwahl\n",
    "funktion_dropdown = \"Sinus\"  % durch DropDown ersetzen\n",
    "mit_gitter = true            % durch Checkbox erszsetzen\n",
    "\n",
    "% Programm\n",
    "x = linspace(-2*pi, 2*pi);\n",
    "if funktion_dropdown == \"Sinus\"\n",
    "    y = sin(x);\n",
    "else\n",
    "    y = cos(x);\n",
    "end\n",
    "plot(x,y);\n",
    "if mit_gitter == true\n",
    "    grid on;\n",
    "end\n",
    "\n",
    "```\n",
    "````"
   ]
  },
  {
   "cell_type": "markdown",
   "id": "bc282d90-425d-40aa-adc3-4de81b7284ec",
   "metadata": {},
   "source": [
    "## Fehlersuche und Testen\n",
    "\n",
    "Selbst erfahrene Softwareentwickler-Teams machen Fehler bei der Programmierung. Die Suche nach Fehlern im Programm ist schwierig, kann aber durch technische Hilfsmittel unterstützt werden, allen voran durch den **Debugger** (= eine Art Fehlersuch-Werkzeug). Damit Sie den Debugger nutzen können, benötigen Sie eine **IDE** (= integrated development environment) mit Debugger, also eine integrierte Entwicklungsumgebung mit Fehlersuch-Werkzeugen. Aber zunächst beschäftigen wir uns mit Fehlern im Allgemeinen."
   ]
  },
  {
   "cell_type": "markdown",
   "id": "8f175c73-c3c6-43c7-a4b0-a23f79c51da2",
   "metadata": {},
   "source": [
    "### Arten von Fehlern\n",
    "\n",
    "Aber was ist überhaupt ein Bug? In der Informatik wird ein Programmfehler Bug genannt. Wie in dieser Erklärung https://de.wikipedia.org/wiki/Programmfehler erläutert, gibt es verschiedene Arten von Programmfehlern. Am häufigsten sind \n",
    "\n",
    "* syntaktische Fehler und\n",
    "* semantische Fehler.\n",
    "\n",
    "**Syntaktische Fehler** sind Fehler, bei denen das Entwickler-Team gegen die Regeln der Programmiersprache verstoßen hat. Z.B. produziert eine fehlende Klammer einen Syntaxfehler:\n",
    "\n",
    "```matlab\n",
    "disp('Hallo'\n",
    "```\n",
    "Syntaktische Fehler braucht man nicht im eigentlichen Sinn zu suchen, denn syntaktische Fehler führen dazu, dass das Programm abbricht. Schwieriger hingegen ist es, die Ursache des syntaktischen Fehlers zu ermitteln und den Fehler zu beheben. Oft ist es hilfreich, die Fehlermeldung in eine Internet-Suchmaschine einzugeben. Oft haben andere Programmierer ebenfalls schon diesen Fehler im Programm gehabt und es gibt Erläuterungen zu dieser Fehlerart.\n",
    "\n",
    "**Semantische Fehler** sind besonders schwer zu finden. Bei semantischen Fehlern gibt es keine Fehlermeldung des Interpreters und das Programm läuft auch, ohne abzustürzen. Aber das Ergebnis entspricht nicht dem, was die Entwicklerin oder der Entwickler beabsichtigt hatte.\n",
    "\n",
    "In dem folgenden Programm beispielsweise soll der Notendurchschnitt von Praxisbericht (Gewichtung 80 %) und Präsentation (20 %) berechnet werden. Schauen Sie sich den Programmcode an. Wo ist der Fehler?\n",
    "\n",
    "```matlab\n",
    "summe = 0;\n",
    "anzahl = 0;\n",
    "weitere_note_eingeben = true;\n",
    "\n",
    "while weitere_note_eingeben == true\n",
    "    note = input('Bitte geben Sie eine Note ein. Wenn Sie die Note 0 eingeben, ist die Noteneingabe beendet. ');\n",
    "    if note == 0\n",
    "        weitere_note_eingeben = false;\n",
    "    else\n",
    "        summe = note;\n",
    "        anzahl = anzahl + 1;\n",
    "    end\n",
    "end\n",
    "        \n",
    "durchschnitt = summe / anzahl;\n",
    "fprintf('Der Durchschnitt der Noten ist %g', durchschnitt);\n",
    "```"
   ]
  },
  {
   "cell_type": "markdown",
   "id": "dc8fc974-8767-497f-b5b8-f35c30d79396",
   "metadata": {},
   "source": [
    "### Fehlersuche mit der Strategie \"Debugging by Printing\"\n",
    "\n",
    "Aber wie gehen wir jetzt vor, um sicherzustellen, dass das von uns entwickelte Programm auch den beabsichtigten Zweck erfüllt? Als erstes überlegen wir uns Testfälle. Dazu später mehr. Auf dem Papier notieren wir uns, was das Programm für Zwischenergebnisse liefern sollte, welche Ausgaben und welches Gesamtergebnis. Für ein Testbeispiel mit den Noten 1.3, 3.7 und 2.3 hätten wir also folgenden *wünschenswerten* Ablauf:\n",
    "\n",
    "```\n",
    "summe = 0\n",
    "anzahl = 0\n",
    "weitere_note_eingeben = true\n",
    "Benutzereingabe: note = 1.3\n",
    "else-Zweig: \n",
    "    summe = 1.3 \n",
    "    anzahl  = 1\n",
    "Benutzereingabe: note = 3.7\n",
    "else-Zweig:\n",
    "    summe = 5.0\n",
    "    anzahl = 2\n",
    "Benutzereingabe: note = 2.3\n",
    "else-Zweig\n",
    "    summe = 7.3\n",
    "    anzahl = 3\n",
    "Benutzereingabe: 0\n",
    "if-Zweig:\n",
    "    weitere_note_eingeben = false\n",
    "durchschnitt = 7.3/3 = 2.433333333333333\n",
    "Ausgabe: Der Durchschnitt der Noten ist 2.433333333333333\n",
    "```\n",
    "\n",
    "Leider fehlt uns derzeit der Einblick in unseren Programm-Code. Eine sehr einfache und schnelle Methode ist die Fehlersuche durch fprintf-Anweisungen. Diese Methode funktioniert immer, kann aber bei größeren Programmen auch schnell unübersichtlich werden. Daher ist die Weiterentwicklung der \"Debugging by Printing\"-Methode der Debugger, auf den wir noch später zurückkommen werden. Erweitern wir unser Programm mit fprintf-Anweisungen und sehen wir, was passiert, wenn wir die Noten 1.3, 3.7, 2.3 und 0 eingeben:"
   ]
  },
  {
   "cell_type": "markdown",
   "id": "27ba4cae-d95e-4bac-8c04-d686053391c4",
   "metadata": {},
   "source": [
    "```matlab\n",
    "summe = 0;\n",
    "fprintf('summe = %g', summe);\n",
    "anzahl = 0;\n",
    "fprintf('anzahl = %g', anzahl);\n",
    "weitere_note_eingeben = true;\n",
    "fprintf('weitere_note_eingeben = %g', weitere_note_eingeben);\n",
    "\n",
    "while weitere_note_eingeben == true\n",
    "    note = input('Bitte geben Sie eine Note ein. Wenn Sie die Note 0 eingeben, ist die Noteneingabe beendet. ');\n",
    "    fprintf('note = %g', note);\n",
    "    if note == 0\n",
    "        weitere_note_eingeben = false;\n",
    "        fprintf('if-Zweig: note = %g', note);\n",
    "        fprintf('if-Zweig: weitere_note_eingeben = %g', weitere_note_eingeben);\n",
    "    else\n",
    "        summe = note;\n",
    "        fprintf('else-Zweig: summe = %g', summe);\n",
    "        anzahl = anzahl + 1;\n",
    "        fprintf('else-Zweig: anzahl = %g', anzahl);\n",
    "    end\n",
    "end\n",
    "        \n",
    "durchschnitt = summe / anzahl;\n",
    "fprintf('durchschnitt = %g', durchschnitt);\n",
    "fprintf('Der Durchschnitt der Noten ist %g', durchschnitt);\n",
    "```"
   ]
  },
  {
   "cell_type": "markdown",
   "id": "cfe9b3c3-57bf-4012-a943-380a0eda976c",
   "metadata": {},
   "source": [
    "### Fehlersuche mit einem Debugger\n",
    "\n",
    "Ein Debugger ist ein spezielles Fehlersuchwerkzeug. Zuerst werden im Code Haltepunkte gesetzt. Haltepunkte werden im Englischen Breakpoints genannt. Damit ist gemeint, dass der Code ausgeführt wird, bis der **Breakpoint** erreicht wurde und dann stoppt der Interpreter die weitere Programm-Ausführung, so dass wir den aktuellen Zustand des Codes untersuchen können. Beispielsweise können wir inspizieren, welche Werte die einzelnen Variablen gerade gespeichert haben.\n",
    "\n",
    "Wir schauen uns ein einfache Beispiel an, bei dem die Zahlen von 1 bis 10 aufsummiert werden sollen. Dazu verwenden wir eine for-Schleife:\n",
    "\n",
    "```matlab\n",
    "summe = 0;\n",
    "for i = 1:10\n",
    "    summe = summe + i;\n",
    "end\n",
    "fprintf('Die Summe ist %d.', summe);\n",
    "```\n",
    "\n",
    "Als nächstes setzen wir einen Breakpoint. Dazu klicken wir auf die Zeilennummer der Zeile, in der der Breakpoint gesetzt werden soll. In diesem Beispiel wollen wir den Inhalt der Variable summe bei jedem Schleifendurchgang mitverfolgen. Also setzen wir den Breakpoint in der Zeile `summe = summe + i;`. "
   ]
  },
  {
   "cell_type": "markdown",
   "id": "92a01dee-bc84-4b67-8a84-faab17a1d93c",
   "metadata": {},
   "source": [
    "![fig_part09_debugger](pics/part09_debugger.png \"Screenshot des MATLAB Debuggers\")"
   ]
  },
  {
   "cell_type": "markdown",
   "id": "307be9c0-a5b6-43ab-a8ca-dda4f4e837a9",
   "metadata": {},
   "source": [
    "Wie sehen, verändert sich das MATLAB Fenster. Rechts oben im Menü tauchen nun neue Buttons für das Debugging auf. Im Command Window steht ein `K` vor dem Prompt `>>`. Die Zeile, in der der Debugger gerade angehalten hat, wird durch einen grünen Pfeil markiert. Die folgende Grafik zeigt die drei neuen Elemente:\n",
    "\n",
    "![fig_part09_debugging_session](pics/part09_debugging_session.png \"Screenshot Debugging Session MATLAB\")\n",
    "\n",
    "Nun können Sie im  Command Window sich den Inhalt der Variablen ausgeben lassen. Mit dem Pfeil recht oben namens Step können Sie den MATLAB Code einen weiteren Schritt ausführen lassen. Da es sich in dem Beispiel um eine for-Schleife handelt, wird der nächste Schleifendurchgang ausgeführt. So können Sie Schritt für Schritt durch den Code gehen und überprüfen, ob der Code die Ergebnisse liefert, die er liefern sollte. Mit Stop können Sie die Debugging Session beenden."
   ]
  },
  {
   "cell_type": "markdown",
   "id": "16fb6495-21a0-4baf-b2ed-b5e472a4a236",
   "metadata": {},
   "source": [
    "## Zusammenfassung\n",
    "\n",
    "Zusammenfassung\n",
    "In diesem Kapitel haben Sie fortgeschrittene Programmiertechniken erlernt. Zum einen haben wir eine Einführung in die Programmierung von graphischen Benutzeroberflächen GUI behandelt. Zum anderen haben wir uns mit Fehlerarten und systematischen Methoden zur Suche von Fehlern beschäftigt.\n"
   ]
  },
  {
   "cell_type": "markdown",
   "id": "1a935798-dddb-45b6-a82d-7f9514173a73",
   "metadata": {},
   "source": [
    "## MATLAB-Funktionen für dieses Live Skript\n",
    "\n",
    "```matlab\n",
    "function zeichne_parabel(a)\n",
    "    x = linspace(-10, 10, 200);\n",
    "    y = a .* x.^2;\n",
    "    plot(x,y);\n",
    "end\n",
    "\n",
    "function zeichne_punkt(x,y)\n",
    "    plot(x,y, 'o')\n",
    "    xlim([-5,5])\n",
    "    ylim([-5,5])\n",
    "end\n",
    "\n",
    "function plotte_sinus(mit_legende)\n",
    "    x = linspace(-2*pi, +2*pi);\n",
    "    y = sin(x);\n",
    "    plot(x, y)\n",
    "    if mit_legende == true\n",
    "        legend('Sinus')\n",
    "    end\n",
    "end\n",
    "```"
   ]
  }
 ],
 "metadata": {
  "kernelspec": {
   "display_name": "Python 3 (ipykernel)",
   "language": "python",
   "name": "python3"
  },
  "language_info": {
   "codemirror_mode": {
    "name": "ipython",
    "version": 3
   },
   "file_extension": ".py",
   "mimetype": "text/x-python",
   "name": "python",
   "nbconvert_exporter": "python",
   "pygments_lexer": "ipython3",
   "version": "3.9.12"
  }
 },
 "nbformat": 4,
 "nbformat_minor": 5
}