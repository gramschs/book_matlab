{
 "cells": [
  {
   "cell_type": "markdown",
   "id": "78b05c1d-7af0-4c06-8d2d-71c4bcecf229",
   "metadata": {},
   "source": [
    "# Visualisierung von Messwerten und lineare Regression\n",
    "\n",
    "Nachdem wir uns mit Datenvisualisierung beschäftigt haben, werden wir in diesem Vorlesungsskript das Gelernte auf Messdaten anwenden. Dazu erarbeiten wir uns, wie MATLAB Messdaten importiert und verarbeitet werden. Darüber hinaus versuchen wir, in den Messdaten Muster zu finden, oder mathematisch ausgedrückt, an die Messdaten ein Regressionspolynom anzupassen."
   ]
  },
  {
   "cell_type": "markdown",
   "id": "e715cc19-19e4-4126-a653-ee0c614c3064",
   "metadata": {},
   "source": [
    "## Import von Messdaten\n",
    "\n",
    "Messwerte werden normalerweise nicht händisch in ein MATLAB Live Script eingegeben. Meist werden Daten durch einen Sensor in eine Textdatei gespeichert oder in einer Excel-Datei erfasst. In der Wissenschaft ist es üblich, Messdaten im csv-Format abzuspeichern. Dabei steht **csv** für **comma separated values**, d.h. in einer Textdatei wird pro Messung eine Zeile verwendet und alle Daten pro Messung werden in diese Zeile durch Komma getrennt geschrieben. \n",
    "\n",
    "In einer  csv-Datei können auch Kommentare stehen. Das ist beispielsweise sinnvoll, um die Quelle der Daten zu notieren. MATLAB interpretiert die ersten Zeile nach eventuellen Kommentaren als Spaltenüberschriften, wenn beim Import dort Strings vorgefunden werden. Dabei dürfen keine Leerzeichen oder Umlaute in den Strings vorkommen, sonst gibt es eine Fehlermeldung und MATLAB konvertiert die Spaltenüberschriften eigenmächtig."
   ]
  },
  {
   "cell_type": "markdown",
   "id": "86974c70-5957-4e02-a75d-22a066e01907",
   "metadata": {},
   "source": [
    "Im Folgenden betrachten wir uns den weltweiten CO2-Ausstoß bis 2020 in metrischen Tonnen pro Einwohner (Quelle: [https://data.worldbank.org](https://data.worldbank.org/indicator/EN.ATM.CO2E.PC).\n",
    "\n",
    "Die ersten Zeilen der csv-Datei sehen so aus: \n",
    "\n",
    "% source: https://data.worldbank.org/indicator/EN.ATM.CO2E.PC, license: CC BY-NC 4.0, modified by Simone Gramsch\n",
    "\n",
    "Jahr,\"Metrische_Tonnen_pro_Einwohner\"\n",
    "\n",
    "1990,3.90295218998934\n",
    "\n",
    "1991,3.87459045104576\n",
    "\n",
    "1992,3.80401065140913\n",
    "\n",
    "1993,3.76932773275631\n",
    "\n",
    "1994,3.73238510585118\n",
    "\n",
    "1995,3.78198265021746\n",
    "\n",
    "...\n",
    "\n",
    "Als nächstes laden wir unsere Messdaten in den Speicher.\n",
    "\n",
    "Der Befehl zum Lesen einer csv-Datei lautet (für mehr Informationen siehe [MATLAB-Dokumentation](https://de.mathworks.com/help/matlab/ref/readtable.html):\n",
    "\n",
    "```matlab\n",
    "A=readtable('dateiname.csv')\n",
    "```\n",
    "\n",
    "Meistens werden die Daten mit einem Komma `,` getrennt, manchmal - vor allem im deutschsprachigen Raum - auch mit einem Semikolon `;`. Durch Angabe des Separators, also dem Trennzeichen, können wir direkt beim Einlesen schon das richtige einstellen, für viele deutschsprachige Dokumente also \n",
    "\n",
    "```matlab\n",
    "A = readtable(dateiname, 'Delimiter',';', 'decimal', ',')\n",
    "```\n",
    "\n",
    "mit dem Komma als Dezimaltrennzeichen und nicht als Trennzeichen zwischen Spalten. \n",
    "\n",
    "Die Daten in der csv sind aber bereits wie üblich formatiert, so dass wir die CO2-Emissionen direkt ohne optionale Parameter laden können. Die Zeile mit dem Kommentarzeichen wird dabei übersprungen. \n",
    "\n",
    "Wir gehen davon aus, dass die Datei in einem Verzeichnis namens data liegt."
   ]
  },
  {
   "cell_type": "code",
   "execution_count": 1,
   "id": "d68f0bc7-1b40-4b42-a556-883b01887a76",
   "metadata": {},
   "outputs": [],
   "source": [
    "data = readtable('data/co2_emissionen_worldwide.csv')"
   ]
  },
  {
   "cell_type": "markdown",
   "id": "b5647d3c-2610-4687-aa46-fd39baf26ee9",
   "metadata": {},
   "source": [
    "Wir können direkt auf die Tabelleninhalte zugreifen, wenn wir geschweifte Klammern benutzen. Mit dem Doppelpunkt-Operator `:` und dem Spaltennamen schneiden wir die komplette Spalte aus der Tabelle heraus:"
   ]
  },
  {
   "cell_type": "code",
   "execution_count": 2,
   "id": "ff7e5d3d-487b-4961-b425-6b130b2f7ccd",
   "metadata": {},
   "outputs": [
    {
     "name": "stdout",
     "output_type": "stream",
     "text": [
      "        1990\n",
      "        1991\n",
      "        1992\n",
      "        1993\n",
      "        1994\n",
      "        1995\n",
      "        1996\n",
      "        1997\n",
      "        1998\n",
      "        1999\n",
      "        2000\n",
      "        2001\n",
      "        2002\n",
      "        2003\n",
      "        2004\n",
      "        2005\n",
      "        2006\n",
      "        2007\n",
      "        2008\n",
      "        2009\n",
      "        2010\n",
      "        2011\n",
      "        2012\n",
      "        2013\n",
      "        2014\n",
      "        2015\n",
      "        2016\n",
      "        2017\n",
      "        2018\n",
      "\n",
      "    3.9030\n",
      "    3.8746\n",
      "    3.8040\n",
      "    3.7693\n",
      "    3.7324\n",
      "    3.7820\n",
      "    3.8067\n",
      "    3.8135\n",
      "    3.7806\n",
      "    3.7478\n",
      "    3.8127\n",
      "    3.8277\n",
      "    3.8348\n",
      "    3.9585\n",
      "    4.0923\n",
      "    4.1963\n",
      "    4.2810\n",
      "    4.3919\n",
      "    4.3769\n",
      "    4.2771\n",
      "    4.4832\n",
      "    4.5695\n",
      "    4.5765\n",
      "    4.6065\n",
      "    4.5560\n",
      "    4.4835\n",
      "    4.4313\n",
      "    4.4355\n",
      "    4.4777\n",
      "\n"
     ]
    }
   ],
   "source": [
    "x = data{:,'Jahr'};\n",
    "y = data{:,'Metrische_Tonnen_pro_Einwohner'};\n",
    "\n",
    "disp(x);\n",
    "disp(y);"
   ]
  },
  {
   "cell_type": "markdown",
   "id": "399277ec-c0dd-4f37-8e05-7992dcea0f8c",
   "metadata": {},
   "source": [
    "```{exercise}\n",
    ":label: exercise_08_01\n",
    "Speichern Sie nur die Messungen der Jahre 2010 bis 2020 in einem x- und einem y-Array.\n",
    "```\n",
    "````{solution} exercise_08_01\n",
    ":label: solution_08_01\n",
    ":class: dropdown\n",
    "```matlab\n",
    "x = data{11:21,'Jahr'};\n",
    "y = data{11:21,'Metrische_Tonnen_pro_Einwohner'};\n",
    "```\n",
    "````"
   ]
  },
  {
   "cell_type": "markdown",
   "id": "47066cc1-2cb1-4fb4-b816-28968106b3cb",
   "metadata": {},
   "source": [
    "Sobald die Messdaten in einem normalen MATLAB-Array vorliegen, können wir sie wie gewohnt weiterverarbeiten. Als erstes visualisieren wir die Messdaten und nehmen dazu ein Streudiagramm."
   ]
  },
  {
   "cell_type": "code",
   "execution_count": 3,
   "id": "8a228b57-7bce-4934-b9e9-da43079f8174",
   "metadata": {},
   "outputs": [
    {
     "data": {
      "image/png": "[encoded data removed]",
      "text/plain": [
       "<IPython.core.display.Image object>"
      ]
     },
     "metadata": {
      "filenames": {
       "image/png": "/Users/gramschs/lectures/book_matlab/doc/_build/jupyter_execute/part08_8_0.png"
      }
     },
     "output_type": "display_data"
    }
   ],
   "source": [
    "figure();\n",
    "scatter(x,y);\n",
    "xlabel('Jahr');\n",
    "ylabel('Metrische Tonnen pro Einwohner');\n",
    "title('Weltweiter CO2-Ausstoß von 1990 bis 2018');"
   ]
  },
  {
   "cell_type": "markdown",
   "id": "056d5252-bb2b-423a-98e6-5ac1c770d7d6",
   "metadata": {},
   "source": [
    "```{exercise}\n",
    ":label: exercise_08_02\n",
    "Importieren Sie den Datensatz zur Bundesligasaison 2020/21 von Bayern München (Dateiname 'bayern_muenchen_2020.csv'). Visualisieren Sie, wie viele Minuten jeder Spieler in dieser Saison auf dem Platz gestanden hat (x ist die Spalte 'Name', y die Spalte 'Mins' ).\n",
    "* Welches Diagramm passt am besten, Linien-, Balken- oder Streudiagramm?\n",
    "* Welcher Spieler hatte die meiste Spielzeit?\n",
    "```\n",
    "````{solution} exercise_08_02\n",
    ":label: solution_08_02\n",
    ":class: dropdown\n",
    "```matlab\n",
    "% Import Messdaten\n",
    "data = readtable('bayern_muenchen_2020.csv');\n",
    "x = categorical(data{:,'Name'});\n",
    "y = data{:,'Mins'};\n",
    "\n",
    "% Datenvisualisierung\n",
    "figure();\n",
    "bar(x,y);\n",
    "xlabel('Spieler');\n",
    "ylabel('Minuten');\n",
    "title('Bundesligasaison 2020/21');\n",
    "```\n",
    "````"
   ]
  },
  {
   "cell_type": "markdown",
   "id": "5e940026-4191-4cbf-94db-f77b1e4bdcd4",
   "metadata": {},
   "source": [
    "## Regression - ein wenig Theorie\n",
    "\n",
    "Kehren wir zu unserem Beispiel mit dem weltweiten CO2-Austoß zurück. Bisher haben wir nur die Messwerte visualisiert. Wenn wir jetzt eine Prognose für das Jahr 2030 wagen wollen, brauchen wir ein Modell. Lassen wir CO2-Emissionen noch einmal zeichnen."
   ]
  },
  {
   "cell_type": "code",
   "execution_count": 4,
   "id": "da904bff-36d3-4f28-97a6-4293e10ee4e8",
   "metadata": {},
   "outputs": [
    {
     "data": {
      "image/png": "[encoded data removed]",
      "text/plain": [
       "<IPython.core.display.Image object>"
      ]
     },
     "metadata": {
      "filenames": {
       "image/png": "/Users/gramschs/lectures/book_matlab/doc/_build/jupyter_execute/part08_11_0.png"
      }
     },
     "output_type": "display_data"
    }
   ],
   "source": [
    "% Import Messdaten\n",
    "data = readtable('data/co2_emissionen_worldwide.csv');\n",
    "x = data{:,1};\n",
    "y = data{:,2};\n",
    "\n",
    "% Datenvisualisierung\n",
    "figure();\n",
    "scatter(x,y,'filled');\n",
    "xlabel('Jahr'); ylabel('Metrische Tonnen pro Einwohner');\n",
    "grid on;\n",
    "title('Weltweiter CO2-Ausstoß von 1990 bis 2018')"
   ]
  },
  {
   "cell_type": "markdown",
   "id": "0900bcdf-9c68-43b7-b9a6-dcb7bbbc4093",
   "metadata": {},
   "source": [
    "Fangen wir mit dem einfachsten Modell an, diese Messdaten zu beschreiben, mit einer linearen Funktion.\n",
    "In der Statistik beschäftigen sich Mathematikerinnen und Mathematiker bereits seit Jahrhunderten damit, Analyseverfahren zu entwickeln, mit denen experimentelle Daten gut erklärt werden können. Falls wir eine \"erklärende\" Variable (hier das Jahr) haben und wir versuchen, die Abhängigkeit einer Messgröße (hier die CO2-Emissionen pro Einwohner) von der erklärenden Variable zu beschreiben, nennen wir das **Regressionsanalyse** oder kurz **Regression**. Bei vielen Problemen suchen wir nach einem linearen Zusammenhang und sprechen daher von linearer Regression. Mehr Details finden Sie auch bei [Wikipedia (Regressionsanalyse)](https://de.wikipedia.org/wiki/Regressionsanalyse)."
   ]
  },
  {
   "cell_type": "markdown",
   "id": "73589e7b-f482-4117-b4dc-b5d5725bc164",
   "metadata": {},
   "source": [
    "```{exercise}\n",
    ":label: exercise_08_03\n",
    "Denken Sie sich Werte für die Steigung m und den y-Achsenabschnitt b einer linearen Funktion  aus. Erzeugen Sie einen Vektor mit 100 x-Werten von 1990 bis 2018 und einen Vektor y mit $y=mx+b$. Lassen Sie diese lineare Funktion als durchgezogene rote Linie in den gleichen Plot wie die gepunkteten Messwerte zeichnen. Welche Werte für m und b müssen Sie wählen, damit die rote Linie passend zu den blauen Punkten ist? Spielen Sie mit m und b herum, bis es passen könnte.\n",
    "```\n",
    "````{solution} exercise_08_03\n",
    ":label: solution_08_03\n",
    ":class: dropdown\n",
    "```matlab\n",
    "x_modell = linspace(1990, 2018, 100);\n",
    "\n",
    "m = 0.0344;\n",
    "b = -64.7516;\n",
    "y_modell = m * x_modell + b;\n",
    "\n",
    "figure();\n",
    "scatter(x,y, 'filled');\n",
    "hold on;\n",
    "plot(x_modell, y_modell, 'r-');\n",
    "xlabel('Jahr'); ylabel('Metrische Tonnen pro Einwohner');\n",
    "title('Weltweiter CO2-Ausstoß von 1990 bis 2018'); \n",
    "```\n",
    "````"
   ]
  },
  {
   "cell_type": "markdown",
   "id": "43f0f6c8-6d32-44e8-bfc8-af0685ce7b9c",
   "metadata": {},
   "source": [
    "Wenn wir jetzt eine Prognose für das Jahr 2030 wagen wollen, können wir den Wert  in die lineare Funktion einsetzen und erhalten für 2030 einen CO2-Ausstoß von 5.1 metrischen Tonnen pro Einwohner :-("
   ]
  },
  {
   "cell_type": "markdown",
   "id": "3da472eb-ca89-4f9f-895b-ba56c67fdfed",
   "metadata": {},
   "source": [
    "Woher wissen wir eigentlich, dass diese Steigung $m$ und dieser y-Achsenabschnitt $b$ am besten passen? Dazu berechnen wir, wie weit weg die Gerade von den Messpunkten ist. Wie das geht, veranschaulichen wir uns mit der folgenden Grafik.\n",
    "\n",
    "```{figure} pics/part08_regression.png\n",
    "---\n",
    "width: 600px\n",
    "name: part08_regression\n",
    "---\n",
    "Messpunkte (blau) und der Abstand (grün) zu einer Modellfunktion (rot)\n",
    "\n",
    "([Quelle:](https://de.wikipedia.org/wiki/Methode_der_kleinsten_Quadrate#/media/Datei:MDKQ1.svg) Autor: Christian Schirm, Lizenz: CC0) \n",
    "```\n",
    "\n",
    "Unsere rote Modellfunktion trifft die Messpunkte mal mehr und mal weniger gut. Wir können jetzt für jeden Messpunkt berechnen, wie weit die rote Kurve von ihm weg ist (= grüne Strecke), indem wir die Differenz der y-Koordinaten errechnen: $r = y_{\\text{blau}}-y_{\\text{rot}}$. Diese Differenz nennt man **Residuum**. Danach summieren wir die Fehler (also die Residuen) auf und erhalten den Gesamtfehler. Leider kann es dabei passieren, dass am Ende als Gesamtfehler 0 herauskommt, weil beispielsweise für den 1. Messpunkt die blaue y-Koordinate unter der roten y-Koordinate liegt und damit ein negatives Residuum herauskommt, aber für den 5. Messpunkt ein positives Residuum. Daher quadrieren wir die Residuen. Und damit nicht der Gesamtfehler größer wird nur, weil wir mehr Messpunkte dazunehmen, teilen wir noch durch die Anzahl der Messpunkte $N$."
   ]
  },
  {
   "cell_type": "code",
   "execution_count": 5,
   "id": "4dd24106-10e0-41b2-a76d-8e3812260ba8",
   "metadata": {},
   "outputs": [
    {
     "name": "stdout",
     "output_type": "stream",
     "text": [
      "Der Gesamtfehler ist 0.0224891."
     ]
    }
   ],
   "source": [
    "% blaue y-Koordinaten = Messpunkte\n",
    "y_blau = data{:,2};\n",
    "\n",
    "% Berechnung der roten y-Koordinaten, indem wir x-Koordinaten der Messpunkte\n",
    "% in die Modellfunktion y = m*x + b einsetzen\n",
    "x = data{:,1};\n",
    "y_rot = 0.0344 * x - 64.7516;\n",
    "\n",
    "% Berechnung Gesamtfehler\n",
    "N = size(x, 1);\n",
    "gesamtfehler = 1/N * sum( (y_blau - y_rot).^2 );\n",
    "\n",
    "fprintf('Der Gesamtfehler ist %g.', gesamtfehler);"
   ]
  },
  {
   "cell_type": "markdown",
   "id": "ef2170e5-dceb-4b62-9be1-56c65593e471",
   "metadata": {},
   "source": [
    "Ist das jetzt groß oder klein? Liegt eine gute Modellfunktion vor, die die Daten gut nähert oder nicht? Um das zu beurteilen, berechnen wir wie groß der Fehler wäre, wenn wir nicht die roten y-Koordinaten der Modellfunktion in die Fehlerformel einsetzen, sondern einfach nur den Mittelwert als Schätzwert. Dafür stellt uns MATLAB die Funktion `mean()` zur Verfügung:"
   ]
  },
  {
   "cell_type": "code",
   "execution_count": 6,
   "id": "310fb381-4c3c-4b61-a7d1-34f831d6cabc",
   "metadata": {},
   "outputs": [
    {
     "name": "stdout",
     "output_type": "stream",
     "text": [
      "Der Gesamtfehler für den Mittelwert als Schätzung ist 0.101701."
     ]
    }
   ],
   "source": [
    "y_mittelwert = mean(y_blau);\n",
    "gesamtfehler_mittelwert = 1/N * sum( (y_blau - y_mittelwert).^2 );\n",
    "\n",
    "fprintf('Der Gesamtfehler für den Mittelwert als Schätzung ist %g.', gesamtfehler_mittelwert);"
   ]
  },
  {
   "cell_type": "markdown",
   "id": "f0d90caf-7de9-413b-94a7-c9b09201f5c6",
   "metadata": {},
   "source": [
    "Offensichtlich ist der Gesamtfehler für die Modellfunktion kleiner als wenn wir einfach nur immer den Mittelwert prognostizieren würden. Wir rechnen das in Prozent um:"
   ]
  },
  {
   "cell_type": "code",
   "execution_count": 7,
   "id": "641ffa26-bfe3-47d6-84c8-2ab63a6143cd",
   "metadata": {},
   "outputs": [
    {
     "name": "stdout",
     "output_type": "stream",
     "text": [
      "Der relative Fehler der Modellfunktion im Verhältnis zum Fehler beim Mittelwert ist: 0.2211In Prozent umgerechnet ist das: 22.11 %."
     ]
    }
   ],
   "source": [
    "relativer_fehler = gesamtfehler / gesamtfehler_mittelwert;\n",
    "\n",
    "fprintf('Der relative Fehler der Modellfunktion im Verhältnis zum Fehler beim Mittelwert ist: %.4f', relativer_fehler);\n",
    "fprintf('In Prozent umgerechnet ist das: %.2f %%.', relativer_fehler * 100);"
   ]
  },
  {
   "cell_type": "markdown",
   "id": "fd8f6fdf-ca87-49ad-9281-e295feb1eb2c",
   "metadata": {},
   "source": [
    "In der Statistik wurde diese Verhältnis (Gesamtfehler geteilt durch Gesamtfehler Mittelwert) als Qualitätkriterium für ein lineares Regressionsproblem festgelegt. Genaugenommen, rechnet man 1 - Gesamtfehler /  (Gesamtfehler Mittelwert) und nennt diese Zahl Bestimmtheitsmaß $R^2$. Details finden Sie bei [Wikipedia (Bestimmtheitsmaß)](https://de.wikipedia.org/wiki/Bestimmtheitsmaß). Die Formel lautet:\n",
    "\n",
    "$$R^2 = 1 - \\frac{\\sum_{i=1}^N (y_i - f(x_i))^2}{\\sum_{i=1}^N(y_i-\\bar{y})}. $$\n",
    "\n",
    "Dabei kürzt sich das $\\frac{1}{N}$ im Zähler und Nenner weg.\n",
    "Nachdem der $R^2$-Wert ausgerechnet wurde, können wir nun die Qualität der Anpassung beurteilen:\n",
    "\n",
    "* Wenn $R^2 = 1$  ist, dann gibt es den perfekten linearen Zusammenhang und die Modellfunktion ist eine sehr gute Anpassung an die Messdaten.\n",
    "* Wenn $R^2 = 0$ oder gar negativ ist, dann funktioniert die lineare Modellfunktion überhaupt nicht."
   ]
  },
  {
   "cell_type": "markdown",
   "id": "b32374eb-c628-4bd4-82db-7db255d33775",
   "metadata": {},
   "source": [
    "## Regression mit MATLAB: polyfit\n",
    "\n",
    "MATLAB unterstützt die Suche nach der Regressionspolynomen mit der Funktion `polyfit()`. Eine detaillierte Bechreibung finden Sieìn der [MATLAB-Dokumentation (polyfit)](https://de.mathworks.com/help/matlab/ref/polyfit.html). Aufgerufen wird polyfit mit\n",
    "\n",
    "`p = polyfit(x,y,n)`\n",
    "\n",
    "Dabei sind x und y die Arrays (Vektoren) der Messdaten und n ist der Polynomgrad. Für eine lineare Funktion setzen wir n = 1. Das Ergebnis ist ein Vektor p. Im ersten Eintrag des Vektors steht die Steigung, im zweiten der y-Achsenabschnitt.\n",
    "Wenn wir einen höheren Polynomgrad verwenden, dann gibt uns p die Koeffizienten des Polynoms absteigend, also p(1) den Koeffizienten der höchsten Potenz, p(2) den Koeffizienten der zweithöchsten Potenz usw. bis p(n).\n",
    "\n",
    "Wir visualisieren zunächst die folgenden sieben Messpunkte:"
   ]
  },
  {
   "cell_type": "code",
   "execution_count": 8,
   "id": "6566966f-dba1-4739-b46e-73e2d35e26ce",
   "metadata": {},
   "outputs": [
    {
     "data": {
      "image/png": "[encoded data removed]",
      "text/plain": [
       "<IPython.core.display.Image object>"
      ]
     },
     "metadata": {
      "filenames": {
       "image/png": "/Users/gramschs/lectures/book_matlab/doc/_build/jupyter_execute/part08_23_0.png"
      }
     },
     "output_type": "display_data"
    }
   ],
   "source": [
    "x = [-1, 0, 1, 2,  4, 4, 5];\n",
    "y = [5.4384, 14.3252, 19.2451, 23.3703, 18.2885, 13.8978, 3.7586];\n",
    "\n",
    "figure();\n",
    "scatter(x,y, 'filled');"
   ]
  },
  {
   "cell_type": "markdown",
   "id": "92253dea-6a8e-4c9a-9014-addccaaf1542",
   "metadata": {},
   "source": [
    "Sieht nicht nach einer linearen Funktion, also einer Geraden aus. Wir probieren es mit einer quadratischen Funktion. Die Modellfunktion lautet $f(x)=ax^2bx+c$ mit den Parametern $a$, $b$  und $c$. \n",
    "Wir setzen in der `polyfit()`-Funktion den Polynomgrad auf $n=2$."
   ]
  },
  {
   "cell_type": "code",
   "execution_count": 9,
   "id": "de47d081-d27f-4e5d-b1c5-930d7f180bf3",
   "metadata": {},
   "outputs": [],
   "source": [
    "p = polyfit(x, y, 2);"
   ]
  },
  {
   "cell_type": "markdown",
   "id": "43ce905a-7fcb-4711-9226-6cbad0941697",
   "metadata": {},
   "source": [
    "Jetzt hat der Rückgabewert der `polyfit()`-Funktion drei Werte:"
   ]
  },
  {
   "cell_type": "code",
   "execution_count": 10,
   "id": "cd8963fa-6eed-4acc-a013-7ca22e01779c",
   "metadata": {},
   "outputs": [
    {
     "name": "stdout",
     "output_type": "stream",
     "text": [
      "  Name      Size            Bytes  Class     Attributes\n",
      "\n",
      "  p         1x3                24  double              \n",
      "\n",
      "   -2.0021    8.0906   14.7279\n",
      "\n"
     ]
    }
   ],
   "source": [
    "whos p\n",
    "disp(p)"
   ]
  },
  {
   "cell_type": "markdown",
   "id": "f0fd4eea-b171-47a1-9363-25536b073416",
   "metadata": {},
   "source": [
    "Der 1. Koeffizient -2.0021 ist der Koeffizient für die höchste Potenzfunktion, danach wird absteigend sortiert. Wir erhalten also als Regressionsfunktion\n",
    "\n",
    "$$r(x)=-2.0021x^2 + 8.0906x + 14.7279.$$\n",
    "\n",
    "Visualisieren wir die Modellfunktion zusammen mit den Messpunkten."
   ]
  },
  {
   "cell_type": "code",
   "execution_count": 11,
   "id": "c6176341-77de-4d14-afd0-13e29cba280d",
   "metadata": {},
   "outputs": [
    {
     "data": {
      "image/png": "[encoded data removed]",
      "text/plain": [
       "<IPython.core.display.Image object>"
      ]
     },
     "metadata": {
      "filenames": {
       "image/png": "/Users/gramschs/lectures/book_matlab/doc/_build/jupyter_execute/part08_29_0.png"
      }
     },
     "output_type": "display_data"
    }
   ],
   "source": [
    "figure();\n",
    "scatter(x,y);\n",
    "hold on;\n",
    "x_plot = linspace(-1, 5, 100);\n",
    "y_plot = -2.0021 .* x_plot.^2 + 8.0906 .* x_plot + 14.7279;\n",
    "plot(x_plot, y_plot);"
   ]
  },
  {
   "cell_type": "markdown",
   "id": "b9907fac-360b-41fc-9291-9a49af438296",
   "metadata": {},
   "source": [
    "Sieht eigentlich sehr gut aus. Zuletzt berechnen wir den $R^2$-Wert."
   ]
  },
  {
   "cell_type": "code",
   "execution_count": 12,
   "id": "eb950efd-c2c3-4c61-b102-a54bfa14b0c5",
   "metadata": {},
   "outputs": [
    {
     "name": "stdout",
     "output_type": "stream",
     "text": [
      "R2-Bestimmtheitsmaß: 0.9450"
     ]
    }
   ],
   "source": [
    "y_modell = -2.0021 .* x.^2 + 8.0906 .* x + 14.7279;\n",
    "fehler_modell = sum( (y - y_modell).^2 );\n",
    "\n",
    "y_mittelwert = mean(y);\n",
    "fehler_mittelwert = sum( (y - y_mittelwert).^2 );\n",
    "\n",
    "R2 = 1 - fehler_modell / fehler_mittelwert;\n",
    "fprintf('R2-Bestimmtheitsmaß: %.4f', R2);"
   ]
  },
  {
   "cell_type": "markdown",
   "id": "ad691be6-4014-4189-a5d1-defbcf583133",
   "metadata": {},
   "source": [
    "Der gute visuelle Eindruck bestätigt sich, das Regressionsmodell ist sehr gut."
   ]
  },
  {
   "cell_type": "markdown",
   "id": "251483db-9876-4ddc-9698-3ffb50b5d84b",
   "metadata": {},
   "source": [
    "## Zusammenfassung\n",
    "\n",
    "Eine wichtige Anwendung von MATLAB ist die Analyse von Messdaten. Dazu haben wir uns in diesem Part mit dem Import von Messdaten, der Theorie der Regression und der Umsetzung der Regression in MATLAB mit Polyfit beschäftigt.\n",
    "\n",
    "Darüber hinaus bietet MATLAB die Curve Fitting Toolbox an, um Messdaten zu modellieren."
   ]
  }
 ],
 "metadata": {
  "kernelspec": {
   "display_name": "Matlab",
   "language": "matlab",
   "name": "matlab"
  },
  "language_info": {
   "codemirror_mode": "octave",
   "file_extension": ".m",
   "help_links": [
    {
     "text": "MetaKernel Magics",
     "url": "https://metakernel.readthedocs.io/en/latest/source/README.html"
    }
   ],
   "mimetype": "text/x-octave",
   "name": "matlab",
   "version": "0.17.1"
  }
 },
 "nbformat": 4,
 "nbformat_minor": 5
}